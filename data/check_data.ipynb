{
 "cells": [
  {
   "cell_type": "code",
   "execution_count": 1,
   "metadata": {},
   "outputs": [],
   "source": [
    "import json"
   ]
  },
  {
   "cell_type": "code",
   "execution_count": 3,
   "metadata": {},
   "outputs": [],
   "source": [
    "mix = '/home/photon/MyGraduationProject/data/tr/mix.json'\n",
    "s1 = '/home/photon/MyGraduationProject/data/tr/s1.json'\n",
    "s2 = '/home/photon/MyGraduationProject/data/tr/s2.json'"
   ]
  },
  {
   "cell_type": "code",
   "execution_count": 14,
   "metadata": {},
   "outputs": [
    {
     "name": "stdout",
     "output_type": "stream",
     "text": [
      "Drop 0 utterance(0.00 h) which is short than 32000 samples\n"
     ]
    }
   ],
   "source": [
    "from dataset import *\n",
    "data = AudioDataset('/home/photon/MyGraduationProject/data/tr', 8, sample_rate=16000)\n"
   ]
  },
  {
   "cell_type": "code",
   "execution_count": 38,
   "metadata": {},
   "outputs": [],
   "source": [
    "import numpy as np\n",
    "loadata = np.load('/home/photon/Datasets/av-datas/lrs2_rebuild/mouths/5535496873950688380_00015.npz')"
   ]
  },
  {
   "cell_type": "code",
   "execution_count": 42,
   "metadata": {},
   "outputs": [
    {
     "data": {
      "text/plain": [
       "(50, 96, 96)"
      ]
     },
     "execution_count": 42,
     "metadata": {},
     "output_type": "execute_result"
    }
   ],
   "source": [
    "loadata['data'].shape"
   ]
  },
  {
   "cell_type": "code",
   "execution_count": 37,
   "metadata": {},
   "outputs": [
    {
     "data": {
      "text/plain": [
       "<numpy.lib.npyio.NpzFile at 0x7f174186e1c0>"
      ]
     },
     "execution_count": 37,
     "metadata": {},
     "output_type": "execute_result"
    }
   ],
   "source": [
    "np.load('/home/photon/Datasets/av-datas/lrs2_rebuild/mouths/5535496873950688380_00015.npz')"
   ]
  },
  {
   "cell_type": "code",
   "execution_count": 30,
   "metadata": {},
   "outputs": [
    {
     "data": {
      "text/plain": [
       "[['/home/photon/Datasets/av-datas/lrs2_rebuild/audio/wav16k/min/tr/s1/5535496873950688380_00009_4.2238_6247234373060640285_00067_-4.2238.wav',\n",
       "  '/home/photon/Datasets/av-datas/lrs2_rebuild/mouths/5535496873950688380_00009.npz',\n",
       "  32000],\n",
       " ['/home/photon/Datasets/av-datas/lrs2_rebuild/audio/wav16k/min/tr/s1/5535496873950688380_00015_0.3814_6078587757588772345_00009_-0.3814.wav',\n",
       "  '/home/photon/Datasets/av-datas/lrs2_rebuild/mouths/5535496873950688380_00015.npz',\n",
       "  32000],\n",
       " ['/home/photon/Datasets/av-datas/lrs2_rebuild/audio/wav16k/min/tr/s1/5535496873950688380_00015_0.71188_5944660798874623791_00037_-0.71188.wav',\n",
       "  '/home/photon/Datasets/av-datas/lrs2_rebuild/mouths/5535496873950688380_00015.npz',\n",
       "  32000],\n",
       " ['/home/photon/Datasets/av-datas/lrs2_rebuild/audio/wav16k/min/tr/s1/5535496873950688380_00020_3.9179_6222510823187538064_00069_-3.9179.wav',\n",
       "  '/home/photon/Datasets/av-datas/lrs2_rebuild/mouths/5535496873950688380_00020.npz',\n",
       "  32000],\n",
       " ['/home/photon/Datasets/av-datas/lrs2_rebuild/audio/wav16k/min/tr/s1/5535496873950688380_00022_2.6735_6047908806193434026_00029_-2.6735.wav',\n",
       "  '/home/photon/Datasets/av-datas/lrs2_rebuild/mouths/5535496873950688380_00022.npz',\n",
       "  32000],\n",
       " ['/home/photon/Datasets/av-datas/lrs2_rebuild/audio/wav16k/min/tr/s1/5535496873950688380_00022_4.646_6049337741812751957_00006_-4.646.wav',\n",
       "  '/home/photon/Datasets/av-datas/lrs2_rebuild/mouths/5535496873950688380_00022.npz',\n",
       "  32000],\n",
       " ['/home/photon/Datasets/av-datas/lrs2_rebuild/audio/wav16k/min/tr/s1/5535496873950688380_00025_4.4118_6214822402230895684_00008_-4.4118.wav',\n",
       "  '/home/photon/Datasets/av-datas/lrs2_rebuild/mouths/5535496873950688380_00025.npz',\n",
       "  32000],\n",
       " ['/home/photon/Datasets/av-datas/lrs2_rebuild/audio/wav16k/min/tr/s1/5535496873950688380_00027_1.4443_6254571036065254098_00015_-1.4443.wav',\n",
       "  '/home/photon/Datasets/av-datas/lrs2_rebuild/mouths/5535496873950688380_00027.npz',\n",
       "  32000]]"
      ]
     },
     "execution_count": 30,
     "metadata": {},
     "output_type": "execute_result"
    }
   ],
   "source": [
    "data.mini_batch[1][1]"
   ]
  },
  {
   "cell_type": "code",
   "execution_count": null,
   "metadata": {},
   "outputs": [],
   "source": []
  },
  {
   "cell_type": "code",
   "execution_count": null,
   "metadata": {},
   "outputs": [],
   "source": []
  }
 ],
 "metadata": {
  "kernelspec": {
   "display_name": "Python 3",
   "language": "python",
   "name": "python3"
  },
  "language_info": {
   "codemirror_mode": {
    "name": "ipython",
    "version": 3
   },
   "file_extension": ".py",
   "mimetype": "text/x-python",
   "name": "python",
   "nbconvert_exporter": "python",
   "pygments_lexer": "ipython3",
   "version": "3.8.12"
  },
  "orig_nbformat": 4
 },
 "nbformat": 4,
 "nbformat_minor": 2
}
